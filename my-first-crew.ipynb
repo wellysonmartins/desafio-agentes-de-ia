{
 "cells": [
  {
   "cell_type": "markdown",
   "metadata": {},
   "source": [
    "## Usando arquivo .env para controlar variaveis de ambiente\n",
    "Para evitar exposição da chave `OPENAI_API_KEY` optei por utilizar arquivo `.env` com a informação da chave.\n",
    "\n",
    "Para seguir o mesmo método basta criar um arquivo `.env` no mesmo diretório do arquivo `my-first-crew.ipynb`.\n",
    "A importação da chave será feita através da célula abaixo que faz a instalação de um biblioteca para carregar\n",
    "os valores do arquivo `.env`."
   ]
  },
  {
   "cell_type": "code",
   "execution_count": 17,
   "metadata": {},
   "outputs": [],
   "source": [
    "%%capture\n",
    "%pip install python-dotenv\n",
    "import dotenv\n",
    "%load_ext dotenv\n",
    "%dotenv"
   ]
  },
  {
   "cell_type": "code",
   "execution_count": 18,
   "metadata": {},
   "outputs": [],
   "source": [
    "%%capture\n",
    "!pip install crewai==0.28.8 crewai-tools==0.1.6 langchain-community==0.0.29"
   ]
  },
  {
   "cell_type": "code",
   "execution_count": 19,
   "metadata": {},
   "outputs": [],
   "source": [
    "from crewai import Agent, Task, Crew\n"
   ]
  },
  {
   "cell_type": "code",
   "execution_count": 20,
   "metadata": {},
   "outputs": [],
   "source": [
    "import os\n",
    "os.environ['OPENAI_MODEL_NAME'] = \"gpt-3.5-turbo\""
   ]
  },
  {
   "cell_type": "markdown",
   "metadata": {},
   "source": [
    "# Grupo de agente para escrever artigos\n",
    "\n",
    "1. Planner - Planejador do artigo\n",
    "2. Writer - Escrito do artigo\n",
    "3. Editor - Editor do artigo"
   ]
  },
  {
   "cell_type": "code",
   "execution_count": 21,
   "metadata": {},
   "outputs": [],
   "source": [
    "planner = Agent(\n",
    "    role=\"Content Planner\",\n",
    "    goal=\"Plan engaging content about the {topic}\",\n",
    "    backstory=\"\"\"You're working on planning a blog post article about\n",
    "    the topic: {topic}.\n",
    "    You collect information that helps the audience learn something\n",
    "    and mak informed decisions.\n",
    "    Your work is the basics for the Content Writer to write article on this topic.\n",
    "    \"\"\",\n",
    "    allow_delegation=False,\n",
    "    verbose=True,\n",
    ")"
   ]
  },
  {
   "cell_type": "code",
   "execution_count": 22,
   "metadata": {},
   "outputs": [],
   "source": [
    "writer = Agent(\n",
    "    role=\"Content Writer\",\n",
    "    goal=\"Write insightfull and factually accurate opinion piece about the topic: {topic}\",\n",
    "    backstory=\"\"\"You're working on writing and opinion about the topic: {topic}.\n",
    "    You base your opinion on the work of the Conntent Planner, who provides an outline and relevant context\n",
    "    about the topic. You follow the main objectives and direction of the outline, as provided by the Content Planner.\n",
    "    You also provide objective and impartial insights and back them with information provided the Content Planner.\n",
    "    \"\"\",\n",
    "    allow_delegation=False,\n",
    "    verbose=True,\n",
    ")"
   ]
  },
  {
   "cell_type": "code",
   "execution_count": 23,
   "metadata": {},
   "outputs": [],
   "source": [
    "editor = Agent(\n",
    "    role=\"Editor\",\n",
    "    goal=\"Edit a given blog post article to align with writing style of the organization.\",\n",
    "    backstory=\"\"\"You're are a editor that receives a blog post from the Content Writer.\n",
    "    Your goal is to review the blog post to ensure that it follow a journalistic best practices.\n",
    "    \"\"\",\n",
    "    allow_delegation=False,\n",
    "    verbose=True,\n",
    ")"
   ]
  },
  {
   "cell_type": "code",
   "execution_count": 24,
   "metadata": {},
   "outputs": [],
   "source": [
    "plan = Task(\n",
    "    description=(\n",
    "        \"1. Prioritaze the last trends, key players, and noteworthy news on {topic}\"\n",
    "        \"2. Identify the target audience, considering their interests and pain points.\"\n",
    "        \"3. Develop a detaild content outline including an introduction, key points, and call to action.\"\n",
    "        \"4. Include SEO keyword and relevant data or sources.\"\n",
    "    ),\n",
    "    expected_output=\"A comprehensive content plan document with an outline, audience analysis, SEO keywords and resources\",\n",
    "    agent=planner,\n",
    ")"
   ]
  },
  {
   "cell_type": "code",
   "execution_count": 25,
   "metadata": {},
   "outputs": [],
   "source": [
    "write = Task(\n",
    "    description=(\n",
    "        \"1. Use the content plan to craft a compelling blog post on topic: {topic}.\"\n",
    "        \"2. Incorporate the SEO keyword naturally.\"\n",
    "        \"3. Sections/Subtitles are properly named in engaging manner.\"\n",
    "        \"4. Ensure the post is scructured with and engaging introduction, insightfull body and summarization conclusion.\"\n",
    "    ),\n",
    "    expected_output=\"A well-writen blog post in Markdown format, ready for publication, each section should have 2 or 3 paragraphs\",\n",
    "    agent=writer,\n",
    ")"
   ]
  },
  {
   "cell_type": "code",
   "execution_count": 26,
   "metadata": {},
   "outputs": [],
   "source": [
    "edit = Task(\n",
    "    description=\"Proofread the given blog post for grammatical errors and aligment with the brand's voices.\",\n",
    "    expected_output=\"A well-writen blog post in Markdown format, ready for publication, each section should have 2 or 3 paragraphs\",\n",
    "    agent=editor,\n",
    ")"
   ]
  },
  {
   "cell_type": "code",
   "execution_count": 29,
   "metadata": {},
   "outputs": [
    {
     "name": "stderr",
     "output_type": "stream",
     "text": [
      "2025-02-10 22:54:53,475 - 140519159077760 - __init__.py-__init__:537 - WARNING: Overriding of current TracerProvider is not allowed\n"
     ]
    }
   ],
   "source": [
    "crew = Crew(\n",
    "    agents=[planner, writer, editor],\n",
    "    tasks=[plan, write, edit],\n",
    "    verbose=2,\n",
    ")"
   ]
  },
  {
   "cell_type": "code",
   "execution_count": 30,
   "metadata": {},
   "outputs": [
    {
     "name": "stdout",
     "output_type": "stream",
     "text": [
      "\u001b[1m\u001b[95m [DEBUG]: == Working Agent: Content Planner\u001b[00m\n",
      "\u001b[1m\u001b[95m [INFO]: == Starting Task: 1. Prioritaze the last trends, key players, and noteworthy news on Artificial Inteligence2. Identify the target audience, considering their interests and pain points.3. Develop a detaild content outline including an introduction, key points, and call to action.4. Include SEO keyword and relevant data or sources.\u001b[00m\n",
      "\n",
      "\n",
      "\u001b[1m> Entering new CrewAgentExecutor chain...\u001b[0m\n",
      "\u001b[32;1m\u001b[1;3mI now can give a great answer\n",
      "\n",
      "Final Answer:\n",
      "Content Plan: \n",
      "Title: \"The Latest Trends in Artificial Intelligence: A Comprehensive Guide\"\n",
      "Outline:\n",
      "I. Introduction\n",
      "- Brief overview of the importance of Artificial Intelligence (AI) in today's world\n",
      "- Introduction to key players and recent advancements in AI technology\n",
      "II. Key Trends in AI\n",
      "- Analysis of the latest trends in AI, including machine learning, natural language processing, and robotics\n",
      "- Discussion on how AI is being used in various industries such as healthcare, finance, and marketing\n",
      "III. Key Players in AI\n",
      "- Overview of leading companies in the AI industry, such as Google, Amazon, and IBM\n",
      "- Analysis of their contributions to AI research and development\n",
      "IV. Noteworthy News in AI\n",
      "- Highlighting recent news and breakthroughs in AI technology\n",
      "- Discussing the implications of these advancements on society and the economy\n",
      "V. Target Audience Analysis\n",
      "- Identifying the target audience as professionals in the technology sector, students studying AI, and business owners interested in AI applications\n",
      "- Addressing their interests in staying updated on the latest trends and news in AI\n",
      "- Acknowledging their pain points in understanding complex AI concepts and staying ahead in a rapidly evolving field\n",
      "VI. SEO Keywords\n",
      "- Artificial Intelligence trends\n",
      "- Key players in AI\n",
      "- Latest news in AI\n",
      "- AI technology advancements\n",
      "VII. Resources\n",
      "- Include links to reputable sources such as research papers, industry reports, and news articles on AI\n",
      "- Provide statistics and data to support key points in the article\n",
      "VIII. Call to Action\n",
      "- Encourage readers to subscribe for more updates on AI trends and news\n",
      "- Prompt them to share the article with their network to spread awareness about AI advancements\n",
      "\n",
      "By following this comprehensive content plan, the blog post on the latest trends in Artificial Intelligence will engage the target audience, provide valuable insights, and drive traffic to the website.\u001b[0m\n",
      "\n",
      "\u001b[1m> Finished chain.\u001b[0m\n",
      "\u001b[1m\u001b[92m [DEBUG]: == [Content Planner] Task output: Content Plan: \n",
      "Title: \"The Latest Trends in Artificial Intelligence: A Comprehensive Guide\"\n",
      "Outline:\n",
      "I. Introduction\n",
      "- Brief overview of the importance of Artificial Intelligence (AI) in today's world\n",
      "- Introduction to key players and recent advancements in AI technology\n",
      "II. Key Trends in AI\n",
      "- Analysis of the latest trends in AI, including machine learning, natural language processing, and robotics\n",
      "- Discussion on how AI is being used in various industries such as healthcare, finance, and marketing\n",
      "III. Key Players in AI\n",
      "- Overview of leading companies in the AI industry, such as Google, Amazon, and IBM\n",
      "- Analysis of their contributions to AI research and development\n",
      "IV. Noteworthy News in AI\n",
      "- Highlighting recent news and breakthroughs in AI technology\n",
      "- Discussing the implications of these advancements on society and the economy\n",
      "V. Target Audience Analysis\n",
      "- Identifying the target audience as professionals in the technology sector, students studying AI, and business owners interested in AI applications\n",
      "- Addressing their interests in staying updated on the latest trends and news in AI\n",
      "- Acknowledging their pain points in understanding complex AI concepts and staying ahead in a rapidly evolving field\n",
      "VI. SEO Keywords\n",
      "- Artificial Intelligence trends\n",
      "- Key players in AI\n",
      "- Latest news in AI\n",
      "- AI technology advancements\n",
      "VII. Resources\n",
      "- Include links to reputable sources such as research papers, industry reports, and news articles on AI\n",
      "- Provide statistics and data to support key points in the article\n",
      "VIII. Call to Action\n",
      "- Encourage readers to subscribe for more updates on AI trends and news\n",
      "- Prompt them to share the article with their network to spread awareness about AI advancements\n",
      "\n",
      "By following this comprehensive content plan, the blog post on the latest trends in Artificial Intelligence will engage the target audience, provide valuable insights, and drive traffic to the website.\n",
      "\n",
      "\u001b[00m\n",
      "\u001b[1m\u001b[95m [DEBUG]: == Working Agent: Content Writer\u001b[00m\n",
      "\u001b[1m\u001b[95m [INFO]: == Starting Task: 1. Use the content plan to craft a compelling blog post on topic: Artificial Inteligence.2. Incorporate the SEO keyword naturally.3. Sections/Subtitles are properly named in engaging manner.4. Ensure the post is scructured with and engaging introduction, insightfull body and summarization conclusion.\u001b[00m\n",
      "\n",
      "\n",
      "\u001b[1m> Entering new CrewAgentExecutor chain...\u001b[0m\n",
      "\u001b[32;1m\u001b[1;3mI have a clear understanding of the content plan and the objectives outlined for the blog post on Artificial Intelligence. By incorporating the latest trends, key players, noteworthy news, and target audience analysis, I can create a compelling and informative piece that will resonate with professionals, students, and business owners interested in AI.\n",
      "\n",
      "Final Answer: \n",
      "\n",
      "# The Latest Trends in Artificial Intelligence: A Comprehensive Guide\n",
      "\n",
      "## Introduction\n",
      "Artificial Intelligence (AI) has become an integral part of our modern world, revolutionizing industries and shaping the way we interact with technology. From healthcare to finance, AI has made significant advancements in machine learning, natural language processing, and robotics. Key players in the AI industry, such as Google, Amazon, and IBM, have been at the forefront of research and development, pushing the boundaries of what is possible with AI technology.\n",
      "\n",
      "## Key Trends in AI\n",
      "The latest trends in AI are driving innovation across various sectors, with machine learning algorithms improving efficiency and accuracy in decision-making processes. Natural language processing has enabled chatbots and virtual assistants to communicate with humans in a more natural and intuitive way. Robotics has also seen significant advancements, with autonomous vehicles and drones revolutionizing transportation and logistics. AI is being used in healthcare to analyze medical images and diagnose diseases, in finance to detect fraud and optimize investments, and in marketing to personalize customer experiences and drive sales.\n",
      "\n",
      "## Key Players in AI\n",
      "Leading companies in the AI industry, such as Google, Amazon, and IBM, are investing heavily in AI research and development. Google's DeepMind has made breakthroughs in deep learning and reinforcement learning, while Amazon's Alexa has set the standard for voice-activated assistants. IBM's Watson has been instrumental in advancing AI applications in healthcare and business analytics. These companies continue to push the boundaries of AI technology and drive innovation in the field.\n",
      "\n",
      "## Noteworthy News in AI\n",
      "Recent news and breakthroughs in AI technology have captured the attention of the public, with advancements in autonomous vehicles, facial recognition, and natural language processing making headlines. The implications of these advancements on society and the economy are vast, raising questions about ethics, privacy, and job displacement. As AI continues to evolve, it is crucial for policymakers, businesses, and individuals to stay informed and engaged with the latest developments in the field.\n",
      "\n",
      "## Target Audience Analysis\n",
      "Professionals in the technology sector, students studying AI, and business owners interested in AI applications form the target audience for this blog post. They are eager to stay updated on the latest trends and news in AI, but may struggle with understanding complex concepts and staying ahead in a rapidly evolving field. By providing valuable insights and analysis, this blog post aims to educate and inform the target audience on the latest advancements in AI technology.\n",
      "\n",
      "In conclusion, Artificial Intelligence is a rapidly evolving field that is shaping the future of technology and society. By staying informed and engaged with the latest trends, key players, and news in AI, we can better understand the impact of this transformative technology on our lives. Subscribe for more updates on AI trends and news, and share this article with your network to spread awareness about the exciting advancements in Artificial Intelligence.\u001b[0m\n",
      "\n",
      "\u001b[1m> Finished chain.\u001b[0m\n",
      "\u001b[1m\u001b[92m [DEBUG]: == [Content Writer] Task output: # The Latest Trends in Artificial Intelligence: A Comprehensive Guide\n",
      "\n",
      "## Introduction\n",
      "Artificial Intelligence (AI) has become an integral part of our modern world, revolutionizing industries and shaping the way we interact with technology. From healthcare to finance, AI has made significant advancements in machine learning, natural language processing, and robotics. Key players in the AI industry, such as Google, Amazon, and IBM, have been at the forefront of research and development, pushing the boundaries of what is possible with AI technology.\n",
      "\n",
      "## Key Trends in AI\n",
      "The latest trends in AI are driving innovation across various sectors, with machine learning algorithms improving efficiency and accuracy in decision-making processes. Natural language processing has enabled chatbots and virtual assistants to communicate with humans in a more natural and intuitive way. Robotics has also seen significant advancements, with autonomous vehicles and drones revolutionizing transportation and logistics. AI is being used in healthcare to analyze medical images and diagnose diseases, in finance to detect fraud and optimize investments, and in marketing to personalize customer experiences and drive sales.\n",
      "\n",
      "## Key Players in AI\n",
      "Leading companies in the AI industry, such as Google, Amazon, and IBM, are investing heavily in AI research and development. Google's DeepMind has made breakthroughs in deep learning and reinforcement learning, while Amazon's Alexa has set the standard for voice-activated assistants. IBM's Watson has been instrumental in advancing AI applications in healthcare and business analytics. These companies continue to push the boundaries of AI technology and drive innovation in the field.\n",
      "\n",
      "## Noteworthy News in AI\n",
      "Recent news and breakthroughs in AI technology have captured the attention of the public, with advancements in autonomous vehicles, facial recognition, and natural language processing making headlines. The implications of these advancements on society and the economy are vast, raising questions about ethics, privacy, and job displacement. As AI continues to evolve, it is crucial for policymakers, businesses, and individuals to stay informed and engaged with the latest developments in the field.\n",
      "\n",
      "## Target Audience Analysis\n",
      "Professionals in the technology sector, students studying AI, and business owners interested in AI applications form the target audience for this blog post. They are eager to stay updated on the latest trends and news in AI, but may struggle with understanding complex concepts and staying ahead in a rapidly evolving field. By providing valuable insights and analysis, this blog post aims to educate and inform the target audience on the latest advancements in AI technology.\n",
      "\n",
      "In conclusion, Artificial Intelligence is a rapidly evolving field that is shaping the future of technology and society. By staying informed and engaged with the latest trends, key players, and news in AI, we can better understand the impact of this transformative technology on our lives. Subscribe for more updates on AI trends and news, and share this article with your network to spread awareness about the exciting advancements in Artificial Intelligence.\n",
      "\n",
      "\u001b[00m\n",
      "\u001b[1m\u001b[95m [DEBUG]: == Working Agent: Editor\u001b[00m\n",
      "\u001b[1m\u001b[95m [INFO]: == Starting Task: Proofread the given blog post for grammatical errors and aligment with the brand's voices.\u001b[00m\n",
      "\n",
      "\n",
      "\u001b[1m> Entering new CrewAgentExecutor chain...\u001b[0m\n",
      "\u001b[32;1m\u001b[1;3mI now can give a great answer\n",
      "\n",
      "Final Answer: \n",
      "\n",
      "# The Latest Trends in Artificial Intelligence: A Comprehensive Guide\n",
      "\n",
      "## Introduction\n",
      "Artificial Intelligence (AI) has become an integral part of our modern world, revolutionizing industries and shaping the way we interact with technology. From healthcare to finance, AI has made significant advancements in machine learning, natural language processing, and robotics. Key players in the AI industry, such as Google, Amazon, and IBM, have been at the forefront of research and development, pushing the boundaries of what is possible with AI technology.\n",
      "\n",
      "## Key Trends in AI\n",
      "The latest trends in AI are driving innovation across various sectors, with machine learning algorithms improving efficiency and accuracy in decision-making processes. Natural language processing has enabled chatbots and virtual assistants to communicate with humans in a more natural and intuitive way. Robotics has also seen significant advancements, with autonomous vehicles and drones revolutionizing transportation and logistics. AI is being used in healthcare to analyze medical images and diagnose diseases, in finance to detect fraud and optimize investments, and in marketing to personalize customer experiences and drive sales.\n",
      "\n",
      "## Key Players in AI\n",
      "Leading companies in the AI industry, such as Google, Amazon, and IBM, are investing heavily in AI research and development. Google's DeepMind has made breakthroughs in deep learning and reinforcement learning, while Amazon's Alexa has set the standard for voice-activated assistants. IBM's Watson has been instrumental in advancing AI applications in healthcare and business analytics. These companies continue to push the boundaries of AI technology and drive innovation in the field.\n",
      "\n",
      "## Noteworthy News in AI\n",
      "Recent news and breakthroughs in AI technology have captured the attention of the public, with advancements in autonomous vehicles, facial recognition, and natural language processing making headlines. The implications of these advancements on society and the economy are vast, raising questions about ethics, privacy, and job displacement. As AI continues to evolve, it is crucial for policymakers, businesses, and individuals to stay informed and engaged with the latest developments in the field.\n",
      "\n",
      "## Target Audience Analysis\n",
      "Professionals in the technology sector, students studying AI, and business owners interested in AI applications form the target audience for this blog post. They are eager to stay updated on the latest trends and news in AI, but may struggle with understanding complex concepts and staying ahead in a rapidly evolving field. By providing valuable insights and analysis, this blog post aims to educate and inform the target audience on the latest advancements in AI technology.\n",
      "\n",
      "In conclusion, Artificial Intelligence is a rapidly evolving field that is shaping the future of technology and society. By staying informed and engaged with the latest trends, key players, and news in AI, we can better understand the impact of this transformative technology on our lives. Subscribe for more updates on AI trends and news, and share this article with your network to spread awareness about the exciting advancements in Artificial Intelligence.\u001b[0m\n",
      "\n",
      "\u001b[1m> Finished chain.\u001b[0m\n",
      "\u001b[1m\u001b[92m [DEBUG]: == [Editor] Task output: # The Latest Trends in Artificial Intelligence: A Comprehensive Guide\n",
      "\n",
      "## Introduction\n",
      "Artificial Intelligence (AI) has become an integral part of our modern world, revolutionizing industries and shaping the way we interact with technology. From healthcare to finance, AI has made significant advancements in machine learning, natural language processing, and robotics. Key players in the AI industry, such as Google, Amazon, and IBM, have been at the forefront of research and development, pushing the boundaries of what is possible with AI technology.\n",
      "\n",
      "## Key Trends in AI\n",
      "The latest trends in AI are driving innovation across various sectors, with machine learning algorithms improving efficiency and accuracy in decision-making processes. Natural language processing has enabled chatbots and virtual assistants to communicate with humans in a more natural and intuitive way. Robotics has also seen significant advancements, with autonomous vehicles and drones revolutionizing transportation and logistics. AI is being used in healthcare to analyze medical images and diagnose diseases, in finance to detect fraud and optimize investments, and in marketing to personalize customer experiences and drive sales.\n",
      "\n",
      "## Key Players in AI\n",
      "Leading companies in the AI industry, such as Google, Amazon, and IBM, are investing heavily in AI research and development. Google's DeepMind has made breakthroughs in deep learning and reinforcement learning, while Amazon's Alexa has set the standard for voice-activated assistants. IBM's Watson has been instrumental in advancing AI applications in healthcare and business analytics. These companies continue to push the boundaries of AI technology and drive innovation in the field.\n",
      "\n",
      "## Noteworthy News in AI\n",
      "Recent news and breakthroughs in AI technology have captured the attention of the public, with advancements in autonomous vehicles, facial recognition, and natural language processing making headlines. The implications of these advancements on society and the economy are vast, raising questions about ethics, privacy, and job displacement. As AI continues to evolve, it is crucial for policymakers, businesses, and individuals to stay informed and engaged with the latest developments in the field.\n",
      "\n",
      "## Target Audience Analysis\n",
      "Professionals in the technology sector, students studying AI, and business owners interested in AI applications form the target audience for this blog post. They are eager to stay updated on the latest trends and news in AI, but may struggle with understanding complex concepts and staying ahead in a rapidly evolving field. By providing valuable insights and analysis, this blog post aims to educate and inform the target audience on the latest advancements in AI technology.\n",
      "\n",
      "In conclusion, Artificial Intelligence is a rapidly evolving field that is shaping the future of technology and society. By staying informed and engaged with the latest trends, key players, and news in AI, we can better understand the impact of this transformative technology on our lives. Subscribe for more updates on AI trends and news, and share this article with your network to spread awareness about the exciting advancements in Artificial Intelligence.\n",
      "\n",
      "\u001b[00m\n"
     ]
    }
   ],
   "source": [
    "result = crew.kickoff(inputs={\"topic\": \"Artificial Inteligence\"})"
   ]
  },
  {
   "cell_type": "code",
   "execution_count": 33,
   "metadata": {},
   "outputs": [],
   "source": [
    "from IPython.display import Markdown"
   ]
  },
  {
   "cell_type": "code",
   "execution_count": 34,
   "metadata": {},
   "outputs": [
    {
     "data": {
      "text/markdown": [
       "# The Latest Trends in Artificial Intelligence: A Comprehensive Guide\n",
       "\n",
       "## Introduction\n",
       "Artificial Intelligence (AI) has become an integral part of our modern world, revolutionizing industries and shaping the way we interact with technology. From healthcare to finance, AI has made significant advancements in machine learning, natural language processing, and robotics. Key players in the AI industry, such as Google, Amazon, and IBM, have been at the forefront of research and development, pushing the boundaries of what is possible with AI technology.\n",
       "\n",
       "## Key Trends in AI\n",
       "The latest trends in AI are driving innovation across various sectors, with machine learning algorithms improving efficiency and accuracy in decision-making processes. Natural language processing has enabled chatbots and virtual assistants to communicate with humans in a more natural and intuitive way. Robotics has also seen significant advancements, with autonomous vehicles and drones revolutionizing transportation and logistics. AI is being used in healthcare to analyze medical images and diagnose diseases, in finance to detect fraud and optimize investments, and in marketing to personalize customer experiences and drive sales.\n",
       "\n",
       "## Key Players in AI\n",
       "Leading companies in the AI industry, such as Google, Amazon, and IBM, are investing heavily in AI research and development. Google's DeepMind has made breakthroughs in deep learning and reinforcement learning, while Amazon's Alexa has set the standard for voice-activated assistants. IBM's Watson has been instrumental in advancing AI applications in healthcare and business analytics. These companies continue to push the boundaries of AI technology and drive innovation in the field.\n",
       "\n",
       "## Noteworthy News in AI\n",
       "Recent news and breakthroughs in AI technology have captured the attention of the public, with advancements in autonomous vehicles, facial recognition, and natural language processing making headlines. The implications of these advancements on society and the economy are vast, raising questions about ethics, privacy, and job displacement. As AI continues to evolve, it is crucial for policymakers, businesses, and individuals to stay informed and engaged with the latest developments in the field.\n",
       "\n",
       "## Target Audience Analysis\n",
       "Professionals in the technology sector, students studying AI, and business owners interested in AI applications form the target audience for this blog post. They are eager to stay updated on the latest trends and news in AI, but may struggle with understanding complex concepts and staying ahead in a rapidly evolving field. By providing valuable insights and analysis, this blog post aims to educate and inform the target audience on the latest advancements in AI technology.\n",
       "\n",
       "In conclusion, Artificial Intelligence is a rapidly evolving field that is shaping the future of technology and society. By staying informed and engaged with the latest trends, key players, and news in AI, we can better understand the impact of this transformative technology on our lives. Subscribe for more updates on AI trends and news, and share this article with your network to spread awareness about the exciting advancements in Artificial Intelligence."
      ],
      "text/plain": [
       "<IPython.core.display.Markdown object>"
      ]
     },
     "execution_count": 34,
     "metadata": {},
     "output_type": "execute_result"
    }
   ],
   "source": [
    "Markdown(result)"
   ]
  }
 ],
 "metadata": {
  "kernelspec": {
   "display_name": "venv",
   "language": "python",
   "name": "python3"
  },
  "language_info": {
   "codemirror_mode": {
    "name": "ipython",
    "version": 3
   },
   "file_extension": ".py",
   "mimetype": "text/x-python",
   "name": "python",
   "nbconvert_exporter": "python",
   "pygments_lexer": "ipython3",
   "version": "3.12.6"
  }
 },
 "nbformat": 4,
 "nbformat_minor": 2
}
